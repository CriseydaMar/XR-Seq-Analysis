{
 "cells": [
  {
   "cell_type": "code",
   "execution_count": 56,
   "metadata": {
    "collapsed": false,
    "deletable": true,
    "editable": true
   },
   "outputs": [],
   "source": [
    "with open('mfd_XR-seq_exp1_trimmed2.fastq') as f:\n",
    "    fastq = f.readlines()   \n",
    "fastq = [x.strip() for x in fastq] "
   ]
  },
  {
   "cell_type": "code",
   "execution_count": 57,
   "metadata": {
    "collapsed": false,
    "deletable": true,
    "editable": true
   },
   "outputs": [
    {
     "name": "stdout",
     "output_type": "stream",
     "text": [
      "11151641\n",
      "392525\n",
      "0.9659979768135697\n"
     ]
    }
   ],
   "source": [
    "TT_count=0\n",
    "neg=0\n",
    "for i in range(1,len(fastq),4):\n",
    "    seq=fastq[i]\n",
    "    if seq[7:9] == \"TT\":\n",
    "        TT_count+=1\n",
    "    else:\n",
    "        neg+=1\n",
    "        \n",
    "print(TT_count)\n",
    "print(neg)        \n",
    "sums= TT_count + neg\n",
    "percent=TT_count/sums\n",
    "print(percent)"
   ]
  },
  {
   "cell_type": "code",
   "execution_count": 3,
   "metadata": {
    "collapsed": false,
    "deletable": true,
    "editable": true
   },
   "outputs": [
    {
     "data": {
      "text/plain": [
       "'@M01390:56:000000000-BBP8Y:1:1101:14418:1577 1:N:0:1'"
      ]
     },
     "execution_count": 3,
     "metadata": {},
     "output_type": "execute_result"
    }
   ],
   "source": [
    "90658"
   ]
  },
  {
   "cell_type": "code",
   "execution_count": 11,
   "metadata": {
    "collapsed": false,
    "deletable": true,
    "editable": true
   },
   "outputs": [
    {
     "data": {
      "text/plain": [
       "'HT'"
      ]
     },
     "execution_count": 11,
     "metadata": {},
     "output_type": "execute_result"
    }
   ],
   "source": [
    "seq='ABCDSFGHT'\n",
    "seq[7:9]"
   ]
  },
  {
   "cell_type": "code",
   "execution_count": 13,
   "metadata": {
    "collapsed": false,
    "deletable": true,
    "editable": true
   },
   "outputs": [],
   "source": [
    "\n",
    "infile=open('wt_test_sampled.fastq')\n",
    "outfile=open('wt_test_sampled_header.fastq', 'w')\n",
    "for line in infile:\n",
    "    if '@' in line:\n",
    "        pass\n",
    "    else:\n",
    "        if 'GGCTCAGTTCGTATGAGTGCCG' in line:\n",
    "            line=line.strip()\n",
    "            #print(line)\n",
    "            start=line.find('GGCTCAGTTCGTATGAGTGCCG')\n",
    "            end=start+len('GGCTCAGTTCGTATGAGTGCCG')\n",
    "            iden=line[end:end+8]\n",
    "            outfile.write('@'+iden+'\\n')\n",
    "            outfile.write(line+'\\n')\n",
    "            one=infile.readline()\n",
    "            two=infile.readline()\n",
    "            outfile.write(one)\n",
    "            outfile.write(two)\n",
    "\n",
    "        \n",
    "\n",
    "\n",
    "infile.close()\n",
    "outfile.close()"
   ]
  },
  {
   "cell_type": "code",
   "execution_count": null,
   "metadata": {
    "collapsed": true
   },
   "outputs": [],
   "source": []
  }
 ],
 "metadata": {
  "kernelspec": {
   "display_name": "Python 3",
   "language": "python",
   "name": "python3"
  },
  "language_info": {
   "codemirror_mode": {
    "name": "ipython",
    "version": 3
   },
   "file_extension": ".py",
   "mimetype": "text/x-python",
   "name": "python",
   "nbconvert_exporter": "python",
   "pygments_lexer": "ipython3",
   "version": "3.6.0"
  }
 },
 "nbformat": 4,
 "nbformat_minor": 2
}
